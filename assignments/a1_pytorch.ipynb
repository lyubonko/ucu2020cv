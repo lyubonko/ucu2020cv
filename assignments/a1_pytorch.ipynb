{
 "cells": [
  {
   "cell_type": "markdown",
   "metadata": {
    "colab_type": "text",
    "id": "GbaoBUZtlkvu"
   },
   "source": [
    "*Notebook conventions:*\n",
    "\n",
    "* <font color=\"red\">assignment problem</font>. The red color indicates the task that should be done\n",
    "* <font color=\"green\">debugging</font>. The green tells you what is expected outcome. Its primarily goal is to help you get the correct answer\n",
    "* <font color=\"blue\">comments, hints</font>.\n",
    "\n",
    "Assignment 1 (pytorch basics)\n",
    "======================\n",
    "\n"
   ]
  },
  {
   "cell_type": "markdown",
   "metadata": {
    "colab_type": "text",
    "id": "637S0mjilkvv"
   },
   "source": [
    "![pytorch](https://upload.wikimedia.org/wikipedia/commons/9/96/Pytorch_logo.png)"
   ]
  },
  {
   "cell_type": "markdown",
   "metadata": {
    "colab_type": "text",
    "id": "-aEaNoZtlkvw"
   },
   "source": [
    "#### Useful Links:\n",
    "\n",
    "* pytorch official documentation\n",
    "http://pytorch.org/docs/master/index.html\n",
    "\n",
    "* pytorch discussion\n",
    "https://discuss.pytorch.org/\n",
    "\n",
    "* pytorch official tutorials\n",
    "https://pytorch.org/tutorials/\n",
    "\n",
    "* pytorch tutorials (a bit more advance)\n",
    "https://github.com/yunjey/pytorch-tutorial\n"
   ]
  },
  {
   "cell_type": "markdown",
   "metadata": {
    "colab_type": "text",
    "id": "yjTBYu_blkvx"
   },
   "source": [
    "### Preliminaries"
   ]
  },
  {
   "cell_type": "code",
   "execution_count": null,
   "metadata": {
    "colab": {},
    "colab_type": "code",
    "id": "agpPjG0Mlkv2"
   },
   "outputs": [],
   "source": [
    "import numpy as np\n",
    "import torch\n",
    "import torchvision"
   ]
  },
  {
   "cell_type": "code",
   "execution_count": null,
   "metadata": {
    "colab": {
     "base_uri": "https://localhost:8080/",
     "height": 71
    },
    "colab_type": "code",
    "executionInfo": {
     "elapsed": 1924,
     "status": "ok",
     "timestamp": 1563405241745,
     "user": {
      "displayName": "Andrey Lyubonko",
      "photoUrl": "",
      "userId": "14195748931596322145"
     },
     "user_tz": -180
    },
    "id": "RKHlgFk8IUdT",
    "outputId": "2a5f471d-4411-468e-b9ff-6f55efdeedd3"
   },
   "outputs": [],
   "source": [
    "# check versions\n",
    "from platform import python_version\n",
    "print(\"python version:\".ljust(25) + python_version())\n",
    "print(\"torch version:\".ljust(25) + torch.__version__)\n",
    "print(\"torchvision version:\".ljust(25) + torchvision.__version__)"
   ]
  },
  {
   "cell_type": "code",
   "execution_count": null,
   "metadata": {
    "colab": {},
    "colab_type": "code",
    "id": "x9w2ph2LFEM2"
   },
   "outputs": [],
   "source": [
    "# TODO: not sure I need it here\n",
    "from google.colab import files"
   ]
  },
  {
   "cell_type": "code",
   "execution_count": null,
   "metadata": {
    "colab": {},
    "colab_type": "code",
    "id": "yCxjj52jlkv5"
   },
   "outputs": [],
   "source": [
    "# random seed settings\n",
    "torch.manual_seed(42)\n",
    "np.random.seed(42)"
   ]
  },
  {
   "cell_type": "markdown",
   "metadata": {
    "colab_type": "text",
    "id": "ZRnBcOudlkv8"
   },
   "source": [
    "###  Tensors"
   ]
  },
  {
   "cell_type": "markdown",
   "metadata": {
    "colab_type": "text",
    "id": "34t2aUsZlkv9"
   },
   "source": [
    "One of the main data type in pytorch is tensor.\n",
    "We will start with the concept of tensor and how it is used in pytorch\n",
    "\n",
    "![](https://github.com/lyubonko/ucu2020cv/blob/master/assignments/fig/tensors.jpg?raw=true)"
   ]
  },
  {
   "cell_type": "markdown",
   "metadata": {
    "colab_type": "text",
    "id": "41I0TEmRlkv-"
   },
   "source": [
    "### Tensor Initialization"
   ]
  },
  {
   "cell_type": "code",
   "execution_count": null,
   "metadata": {
    "colab": {
     "base_uri": "https://localhost:8080/",
     "height": 125
    },
    "colab_type": "code",
    "executionInfo": {
     "elapsed": 1901,
     "status": "ok",
     "timestamp": 1563405241754,
     "user": {
      "displayName": "Andrey Lyubonko",
      "photoUrl": "",
      "userId": "14195748931596322145"
     },
     "user_tz": -180
    },
    "id": "w63UyQFvlkv_",
    "outputId": "5fddd95e-8a84-487a-e03d-7c24429561d2"
   },
   "outputs": [],
   "source": [
    "# 1d tensor of size 64 of type float (default)\n",
    "# (this tensor is initialized with default values close to zero)\n",
    "v = torch.empty(64)\n",
    "\n",
    "print(\" * the first 4 elements of 'v' are:\")\n",
    "print(v[:4]) # print the first four elements of the tensor\n",
    "\n",
    "# initialize with array [0,1,...,63]\n",
    "v = torch.arange(0,64)\n",
    "\n",
    "print(\" * the first 4 elements of 'v' are:\")\n",
    "print(v[:4]) # print the first four elements of the tensor\n",
    "\n",
    "print(\" * the size of the 'v' is \")\n",
    "print(v.size())"
   ]
  },
  {
   "cell_type": "code",
   "execution_count": null,
   "metadata": {
    "colab": {
     "base_uri": "https://localhost:8080/",
     "height": 269
    },
    "colab_type": "code",
    "executionInfo": {
     "elapsed": 1876,
     "status": "ok",
     "timestamp": 1563405241756,
     "user": {
      "displayName": "Andrey Lyubonko",
      "photoUrl": "",
      "userId": "14195748931596322145"
     },
     "user_tz": -180
    },
    "id": "i_FCufMClkwE",
    "outputId": "b11fdafe-ec8a-4cc9-e330-c3a5de2842a1"
   },
   "outputs": [],
   "source": [
    "# 2d tensor of size 64 of type float\n",
    "x = torch.zeros(8, 8, dtype=torch.long)\n",
    "\n",
    "print(\" * the last 4 elements of 'x' are:\")\n",
    "print(x[:4,:4]) # print the last four elements of the tensor\n",
    "\n",
    "# initialize with array all ones\n",
    "x = torch.ones(8, 8, dtype=torch.float)\n",
    "\n",
    "print(\" * the last 4 elements of 'x' are:\")\n",
    "print(x[:4, :4]) # print the last four elements of the tensor\n",
    "\n",
    "print(\" * the size of the 'x' is \")\n",
    "print(x.size())\n",
    "\n",
    "print(\" * the size of the 'x' can also be obtained by familar from numpy 'shape' command\")\n",
    "print(x.shape)"
   ]
  },
  {
   "cell_type": "markdown",
   "metadata": {},
   "source": [
    "#### <font color=\"red\">**[PROBLEM I]:** </font>"
   ]
  },
  {
   "cell_type": "markdown",
   "metadata": {
    "colab_type": "text",
    "id": "yIxLwDqJlkwI"
   },
   "source": [
    "-----\n",
    "\n",
    " <font color=\"red\"> Initialize X </font>     \n",
    " <font color=\"red\"> 3d Tensor of size (4,4,4) </font>   \n",
    " <font color=\"red\"> of type int32 with all elements equal to 10 </font>   \n",
    "\n",
    "-----"
   ]
  },
  {
   "cell_type": "code",
   "execution_count": null,
   "metadata": {
    "colab": {},
    "colab_type": "code",
    "id": "IDKTCF-FlkwJ"
   },
   "outputs": [],
   "source": [
    "# YOUR CODE HERE"
   ]
  },
  {
   "cell_type": "code",
   "execution_count": null,
   "metadata": {
    "colab": {
     "base_uri": "https://localhost:8080/",
     "height": 35
    },
    "colab_type": "code",
    "executionInfo": {
     "elapsed": 1849,
     "status": "ok",
     "timestamp": 1563405241762,
     "user": {
      "displayName": "Andrey Lyubonko",
      "photoUrl": "",
      "userId": "14195748931596322145"
     },
     "user_tz": -180
    },
    "id": "9PBunfBLlkwL",
    "outputId": "0f878c69-4971-4c60-f554-1ada19349435"
   },
   "outputs": [],
   "source": [
    "X.shape"
   ]
  },
  {
   "cell_type": "markdown",
   "metadata": {
    "colab_type": "text",
    "id": "V6lo7g0vlkwP"
   },
   "source": [
    "### Reshaping, broadcasting"
   ]
  },
  {
   "cell_type": "markdown",
   "metadata": {
    "colab_type": "text",
    "id": "tvQ9VswXlkwQ"
   },
   "source": [
    "Tensor reshaping is done with command 'view':"
   ]
  },
  {
   "cell_type": "code",
   "execution_count": null,
   "metadata": {
    "colab": {
     "base_uri": "https://localhost:8080/",
     "height": 71
    },
    "colab_type": "code",
    "executionInfo": {
     "elapsed": 1584,
     "status": "ok",
     "timestamp": 1563405241763,
     "user": {
      "displayName": "Andrey Lyubonko",
      "photoUrl": "",
      "userId": "14195748931596322145"
     },
     "user_tz": -180
    },
    "id": "9EZqQ4bolkwR",
    "outputId": "6a527b30-8aa3-4947-8aa3-5013586fef44"
   },
   "outputs": [],
   "source": [
    "a = torch.tensor([[1,2], [3,4]])\n",
    "a_reshaped = a.view(4) # reshape into one-dimensional tensor of size 4\n",
    "\n",
    "print(a)\n",
    "print(a_reshaped)"
   ]
  },
  {
   "cell_type": "markdown",
   "metadata": {},
   "source": [
    "#### <font color=\"red\">**[PROBLEM II]:** </font>"
   ]
  },
  {
   "cell_type": "markdown",
   "metadata": {
    "colab_type": "text",
    "id": "PbfinsFPlkwU"
   },
   "source": [
    "-----\n",
    "\n",
    " <font color=\"red\"> Use command 'view' to reshape v and X into 2d tensor --> v' and X'. </font>  \n",
    "  <font color=\"red\">Also convet all tensors to type double </font>\n",
    " <font color=\"red\"> Perform addition of these reshaped tensors, namely calculate v' + X' + x </font>  \n",
    " <font color=\"red\"> Finally display the result. </font>\n",
    "\n",
    "-----"
   ]
  },
  {
   "cell_type": "code",
   "execution_count": null,
   "metadata": {
    "colab": {
     "base_uri": "https://localhost:8080/",
     "height": 161
    },
    "colab_type": "code",
    "executionInfo": {
     "elapsed": 1094,
     "status": "ok",
     "timestamp": 1563405241764,
     "user": {
      "displayName": "Andrey Lyubonko",
      "photoUrl": "",
      "userId": "14195748931596322145"
     },
     "user_tz": -180
    },
    "id": "vAqMDyT7lkwV",
    "outputId": "08fde460-48d9-41c8-e347-94d4b9f49fe6"
   },
   "outputs": [],
   "source": [
    "# YOUR CODE HERE"
   ]
  },
  {
   "cell_type": "markdown",
   "metadata": {
    "colab_type": "text",
    "id": "7MIoop_flkwY"
   },
   "source": [
    "### Operations on Tensors"
   ]
  },
  {
   "cell_type": "markdown",
   "metadata": {
    "colab_type": "text",
    "id": "ob2KRkFRRScX"
   },
   "source": [
    "relevant tutorial\n",
    "https://pytorch.org/tutorials/beginner/blitz/tensor_tutorial.html#operations"
   ]
  },
  {
   "cell_type": "markdown",
   "metadata": {
    "colab_type": "text",
    "id": "lo6Y9pB8lkwZ"
   },
   "source": [
    "There are multiple syntaxes for operations. Let us look for addition operation."
   ]
  },
  {
   "cell_type": "code",
   "execution_count": null,
   "metadata": {
    "colab": {},
    "colab_type": "code",
    "id": "zeUMQde7Rnyo"
   },
   "outputs": [],
   "source": [
    "x = x[:4,:4]\n",
    "y = v.type(torch.float).view(8,8)[:4,:4]"
   ]
  },
  {
   "cell_type": "code",
   "execution_count": null,
   "metadata": {
    "colab": {
     "base_uri": "https://localhost:8080/",
     "height": 233
    },
    "colab_type": "code",
    "executionInfo": {
     "elapsed": 799,
     "status": "ok",
     "timestamp": 1563405242762,
     "user": {
      "displayName": "Andrey Lyubonko",
      "photoUrl": "",
      "userId": "14195748931596322145"
     },
     "user_tz": -180
    },
    "id": "Jx9pgVR-RxfU",
    "outputId": "cc968ad9-b688-4d01-8aac-8f20d52cf4b3"
   },
   "outputs": [],
   "source": [
    "print(torch.add(x, y))\n",
    "print(x + y)\n",
    "result = torch.empty_like(x)\n",
    "torch.add(x, y, out=result)\n",
    "print(result)"
   ]
  },
  {
   "cell_type": "markdown",
   "metadata": {
    "colab_type": "text",
    "id": "Mk9fcUnjS1lK"
   },
   "source": [
    "inplace addition"
   ]
  },
  {
   "cell_type": "code",
   "execution_count": null,
   "metadata": {
    "colab": {
     "base_uri": "https://localhost:8080/",
     "height": 161
    },
    "colab_type": "code",
    "executionInfo": {
     "elapsed": 715,
     "status": "ok",
     "timestamp": 1563405243424,
     "user": {
      "displayName": "Andrey Lyubonko",
      "photoUrl": "",
      "userId": "14195748931596322145"
     },
     "user_tz": -180
    },
    "id": "TBuUEX71Rxou",
    "outputId": "1563d862-e427-41e3-d382-214303ed1c33"
   },
   "outputs": [],
   "source": [
    "print(x)\n",
    "x.add_(y)\n",
    "print(x)"
   ]
  },
  {
   "cell_type": "markdown",
   "metadata": {},
   "source": [
    "Learn about other operations https://pytorch.org/tutorials/beginner/blitz/tensor_tutorial.html#operationsm"
   ]
  },
  {
   "cell_type": "markdown",
   "metadata": {
    "colab_type": "text",
    "id": "tJdssKMxlkwe"
   },
   "source": [
    "### Numpy bridge"
   ]
  },
  {
   "cell_type": "code",
   "execution_count": null,
   "metadata": {
    "colab": {
     "base_uri": "https://localhost:8080/",
     "height": 125
    },
    "colab_type": "code",
    "executionInfo": {
     "elapsed": 545,
     "status": "ok",
     "timestamp": 1563405243772,
     "user": {
      "displayName": "Andrey Lyubonko",
      "photoUrl": "",
      "userId": "14195748931596322145"
     },
     "user_tz": -180
    },
    "id": "88VK_9Jylkwe",
    "outputId": "56dd0c1c-b21b-4e3e-cdee-4733a0de93dd"
   },
   "outputs": [],
   "source": [
    "# create numpy array\n",
    "a = np.array([[1,2], [3,4]])\n",
    "# transform numpy array into torch.Tensor\n",
    "b = torch.from_numpy(a)\n",
    "# make operation on this Tensor (in this case transpose)\n",
    "b = b.transpose(1,0)\n",
    "# transform back to numpy\n",
    "c = b.numpy()                \n",
    "\n",
    "print(a, type(a))\n",
    "print(b, type(b))\n",
    "print(c, type(c))"
   ]
  },
  {
   "cell_type": "markdown",
   "metadata": {},
   "source": [
    "#### <font color=\"red\">**[PROBLEM III]:** </font>"
   ]
  },
  {
   "cell_type": "markdown",
   "metadata": {
    "colab_type": "text",
    "id": "b16o5QKFlkwi"
   },
   "source": [
    "-----\n",
    "<span style=\"color:red\"> Using these two random matrices: </span>"
   ]
  },
  {
   "cell_type": "code",
   "execution_count": null,
   "metadata": {
    "colab": {},
    "colab_type": "code",
    "id": "TC2oFY8llkwj"
   },
   "outputs": [],
   "source": [
    "x = np.random.randn(3, 10)\n",
    "y = np.random.randn(4, 10)"
   ]
  },
  {
   "cell_type": "markdown",
   "metadata": {
    "colab_type": "text",
    "id": "_cE4jEhBlkwm"
   },
   "source": [
    "<span style=\"color:red\"> Do the following: </span>\n",
    "* <span style=\"color:red\">transform $\\mathbf{x}$ and $\\mathbf{y}$ to torch.Tensors</span>\n",
    "* <span style=\"color:red\">perform matrix mutliplication $\\mathbf{r1} = \\mathbf{x} \\cdot \\mathbf{y^T} $</span>  \n",
    "<span style=\"color:blue\"> look in for pytorch function http://pytorch.org/docs/master/torch.html#torch.mm </span>  \n",
    "* <span style=\"color:red\">perform matrix element-wise mutliplication $\\mathbf{r2} = \\mathbf{r1} \\cdot \\mathbf{r1} $</span>  \n",
    "<span style=\"color:blue\"> look in for pytorch function http://pytorch.org/docs/master/torch.html#torch.mul </span> \n",
    "* <span style=\"color:red\">perform scalar addition and scalar multiplication $\\mathbf{r3} = 2 * \\mathbf{r2} + 3 $</span>  \n",
    "* <span style=\"color:red\">transform the result back to numpy </span>\n",
    "\n",
    "-----"
   ]
  },
  {
   "cell_type": "code",
   "execution_count": null,
   "metadata": {
    "colab": {
     "base_uri": "https://localhost:8080/",
     "height": 71
    },
    "colab_type": "code",
    "executionInfo": {
     "elapsed": 321,
     "status": "ok",
     "timestamp": 1563405244608,
     "user": {
      "displayName": "Andrey Lyubonko",
      "photoUrl": "",
      "userId": "14195748931596322145"
     },
     "user_tz": -180
    },
    "id": "aWDAtz54lkwn",
    "outputId": "f58c722e-e825-4bde-b121-edc6254414aa"
   },
   "outputs": [],
   "source": [
    "# YOUR CODE HERE"
   ]
  },
  {
   "cell_type": "markdown",
   "metadata": {
    "colab_type": "text",
    "id": "U_VqL45Blkws"
   },
   "source": [
    "### CUDA stuff"
   ]
  },
  {
   "cell_type": "markdown",
   "metadata": {
    "colab_type": "text",
    "id": "pcPi-hOSlkwt"
   },
   "source": [
    "let us run on CUDA! ... if CUDA is available"
   ]
  },
  {
   "cell_type": "code",
   "execution_count": null,
   "metadata": {
    "colab": {
     "base_uri": "https://localhost:8080/",
     "height": 35
    },
    "colab_type": "code",
    "executionInfo": {
     "elapsed": 382,
     "status": "ok",
     "timestamp": 1563405245368,
     "user": {
      "displayName": "Andrey Lyubonko",
      "photoUrl": "",
      "userId": "14195748931596322145"
     },
     "user_tz": -180
    },
    "id": "BD0YYuiMOgkv",
    "outputId": "18b92ac8-8503-40c8-bb95-d7d2dca4fb0a"
   },
   "outputs": [],
   "source": [
    "torch.cuda.is_available()"
   ]
  },
  {
   "cell_type": "code",
   "execution_count": null,
   "metadata": {
    "colab": {
     "base_uri": "https://localhost:8080/",
     "height": 53
    },
    "colab_type": "code",
    "executionInfo": {
     "elapsed": 455,
     "status": "ok",
     "timestamp": 1563405425969,
     "user": {
      "displayName": "Andrey Lyubonko",
      "photoUrl": "",
      "userId": "14195748931596322145"
     },
     "user_tz": -180
    },
    "id": "EwUaC4nXlkwv",
    "outputId": "ecb255da-b717-4dd1-a29f-f5866edabc72"
   },
   "outputs": [],
   "source": [
    "x = torch.randn(3, 10)\n",
    "if torch.cuda.is_available():\n",
    "    device = \"cuda\"          # a CUDA device object\n",
    "    y = torch.ones_like(x).to(device)  # directly create a tensor on GPU\n",
    "    x = x.to(device)                   \n",
    "    z = x + y\n",
    "    print(z)\n",
    "    print(z.to(\"cpu\", torch.double))"
   ]
  },
  {
   "cell_type": "markdown",
   "metadata": {
    "colab_type": "text",
    "id": "nHxHgvOfRFCA"
   },
   "source": [
    "###  Autograd: automatic differentiation"
   ]
  },
  {
   "cell_type": "markdown",
   "metadata": {
    "colab_type": "text",
    "id": "wux_2jqxRBs0"
   },
   "source": [
    "relevant tutorial\n",
    "https://pytorch.org/tutorials/beginner/blitz/autograd_tutorial.html#sphx-glr-beginner-blitz-autograd-tutorial-py\n"
   ]
  },
  {
   "cell_type": "markdown",
   "metadata": {
    "colab_type": "text",
    "id": "4FZyAlm2lkw0"
   },
   "source": [
    "*torch.Tensor* is the central class of the package. If you set its attribute *.requires_grad* as True, it starts to track all operations on it. When you finish your computation you can call *.backward()* and have all the gradients computed automatically. The gradient for this tensor will be accumulated into .grad attribute. "
   ]
  },
  {
   "cell_type": "markdown",
   "metadata": {
    "colab_type": "text",
    "id": "3XsvhS5-lkw1"
   },
   "source": [
    "**use of autograd**\n",
    "\n",
    "Lets start with simple example.\n",
    "Consider the following function:\n",
    "$$f = (x + y) \\cdot z$$\n",
    "\n",
    "For concretness let's take $x=2$, $y=-7$, $z=3$. The 'forward' calculation is shown in <span style=\"color:green\"> green </span> on the image below.\n",
    "\n",
    "Automaic differentiation provides the elegant tool to calculate derivatives of $f$ with respect to all variables, by 'backward' path.\n",
    "\n",
    "$$f = (x + y) \\cdot z = u \\cdot z $$\n",
    "\n",
    "$$ \\frac{\\partial f}{\\partial u} = z $$\n",
    "\n",
    "$$ \\frac{\\partial f}{\\partial z} = u = -5 $$\n",
    "\n",
    "$$ \\frac{\\partial f}{\\partial x} = \\frac{\\partial f}{\\partial u} \\cdot \\frac{\\partial u}{\\partial x} = z = 3$$\n",
    "\n",
    "$$ \\frac{\\partial f}{\\partial y} = \\frac{\\partial f}{\\partial u} \\cdot \\frac{\\partial u}{\\partial y} = z = 3$$\n",
    "\n",
    "![comp_graph_1](https://github.com/lyubonko/ucu2020cv/blob/master/assignments/fig/comp_graph_1.png?raw=true)"
   ]
  },
  {
   "cell_type": "code",
   "execution_count": null,
   "metadata": {
    "colab": {
     "base_uri": "https://localhost:8080/",
     "height": 71
    },
    "colab_type": "code",
    "executionInfo": {
     "elapsed": 357,
     "status": "ok",
     "timestamp": 1563405246943,
     "user": {
      "displayName": "Andrey Lyubonko",
      "photoUrl": "",
      "userId": "14195748931596322145"
     },
     "user_tz": -180
    },
    "id": "rWdfj0DYlkw2",
    "outputId": "a714a49e-6576-4747-ae22-e098f8912d67"
   },
   "outputs": [],
   "source": [
    "# Create tensors.\n",
    "# ('requires_grad' is False by default)\n",
    "x = torch.tensor([2.], requires_grad=True)\n",
    "y = torch.tensor([-7.], requires_grad=True)\n",
    "z = torch.tensor([3.], requires_grad=True)\n",
    "\n",
    "# Build a computational graph.\n",
    "f = (x + y) * z   \n",
    "\n",
    "# Compute gradients.\n",
    "f.backward()\n",
    "\n",
    "# Print out the gradients.\n",
    "print(x.grad)    \n",
    "print(y.grad)    \n",
    "print(z.grad) "
   ]
  },
  {
   "cell_type": "markdown",
   "metadata": {},
   "source": [
    "#### <font color=\"red\">**[PROBLEM IV]** </font>"
   ]
  },
  {
   "cell_type": "markdown",
   "metadata": {
    "colab_type": "text",
    "id": "fO2yZn6flkw5"
   },
   "source": [
    "\n",
    " Next we will consider the computational graph of the following function \n",
    "\n",
    "$$f = \\frac{1}{1 + exp^{-(w_0 \\cdot x_0 + w_1 \\cdot x_1 + b )}} = \\frac{1}{1 + exp^{-(\\mathbf{w} \\cdot \\mathbf{x} + b )}}$$\n",
    "\n",
    "\n",
    "![comp_graph_2](https://github.com/lyubonko/ucu2020cv/blob/master/assignments/fig/comp_graph_2.png?raw=true)\n",
    "\n",
    " We are interested in computing partial derivatives: \n",
    "\n",
    "$$ \\frac{\\partial f}{\\partial \\mathbf{w}}  $$ \n",
    "\n",
    "$$ \\frac{\\partial f}{\\partial b}  $$ \n",
    "\n",
    "$$ \\frac{\\partial f}{\\partial \\mathbf{x}}  $$ \n",
    "\n",
    "define $\\{x_0, x_1\\}$ and $\\{w_0, w_1\\}$ as vector variables $\\mathbf{x}$ and $\\mathbf{w}$\n",
    "look in for pytorch exponent function http://pytorch.org/docs/master/torch.html#torch.exp \n",
    "use matrix operations\n",
    "\n",
    "You should get the numbers the same as on the figure"
   ]
  },
  {
   "cell_type": "code",
   "execution_count": null,
   "metadata": {
    "colab": {
     "base_uri": "https://localhost:8080/",
     "height": 71
    },
    "colab_type": "code",
    "executionInfo": {
     "elapsed": 900,
     "status": "ok",
     "timestamp": 1563405248044,
     "user": {
      "displayName": "Andrey Lyubonko",
      "photoUrl": "",
      "userId": "14195748931596322145"
     },
     "user_tz": -180
    },
    "id": "vDpuQUuOlkw6",
    "outputId": "c9363ba8-9803-4e11-88ed-0e936810002f"
   },
   "outputs": [],
   "source": [
    "w = torch.tensor([3., 5.], requires_grad=True)\n",
    "x = torch.tensor([-2., 1.], requires_grad=True)\n",
    "b = torch.tensor([2.], requires_grad=True)\n",
    "\n",
    "f = None #YOUR CODE HERE\n",
    "\n",
    "\n",
    "# Print out the gradients.\n",
    "print(w.grad)\n",
    "print(x.grad)      \n",
    "print(b.grad) "
   ]
  },
  {
   "cell_type": "code",
   "execution_count": null,
   "metadata": {},
   "outputs": [],
   "source": []
  }
 ],
 "metadata": {
  "accelerator": "GPU",
  "colab": {
   "collapsed_sections": [],
   "name": "a1_pytorch.ipynb",
   "provenance": [],
   "toc_visible": true,
   "version": "0.3.2"
  },
  "kernelspec": {
   "display_name": "Python 3",
   "language": "python",
   "name": "python3"
  },
  "language_info": {
   "codemirror_mode": {
    "name": "ipython",
    "version": 3
   },
   "file_extension": ".py",
   "mimetype": "text/x-python",
   "name": "python",
   "nbconvert_exporter": "python",
   "pygments_lexer": "ipython3",
   "version": "3.6.9"
  }
 },
 "nbformat": 4,
 "nbformat_minor": 1
}
